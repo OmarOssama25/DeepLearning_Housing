{
 "cells": [
  {
   "cell_type": "code",
   "execution_count": 1,
   "metadata": {},
   "outputs": [],
   "source": [
    "import numpy as np\n",
    "import torch\n",
    "import pandas as pd\n",
    "import torch.nn as nn\n",
    "import torch.optim as optim\n",
    "from sklearn.preprocessing import MinMaxScaler\n",
    "from sklearn.model_selection import train_test_split\n",
    "import matplotlib.pyplot as plt\n",
    "import torch.nn as nn\n",
    "import torch.optim as optim\n",
    "from sklearn.metrics import mean_squared_error, mean_absolute_error,r2_score\n",
    "from torch.utils.data import DataLoader, TensorDataset\n",
    "import matplotlib.pyplot as plt\n",
    "from sklearn.preprocessing import StandardScaler"
   ]
  },
  {
   "cell_type": "markdown",
   "metadata": {},
   "source": [
    "## Assigning to GPU"
   ]
  },
  {
   "cell_type": "code",
   "execution_count": 2,
   "metadata": {},
   "outputs": [],
   "source": [
    "# Check if GPU is available and set the device accordingly\n",
    "#device = torch.device('cuda' if torch.cuda.is_available() else 'cpu')\n",
    "#print(f\"Using device: {device}\")"
   ]
  },
  {
   "cell_type": "markdown",
   "metadata": {},
   "source": [
    "## Load Dataset"
   ]
  },
  {
   "cell_type": "code",
   "execution_count": 3,
   "metadata": {},
   "outputs": [],
   "source": [
    "# Load the dataset\n",
    "df = pd.read_csv(r\"C:\\Users\\HP\\Desktop\\DeepLearning_Assignment1_Housing\\Housing-1 - Housing-1.csv\")"
   ]
  },
  {
   "cell_type": "code",
   "execution_count": 4,
   "metadata": {},
   "outputs": [
    {
     "name": "stdout",
     "output_type": "stream",
     "text": [
      "First few rows of the dataset:\n"
     ]
    },
    {
     "data": {
      "text/html": [
       "<div>\n",
       "<style scoped>\n",
       "    .dataframe tbody tr th:only-of-type {\n",
       "        vertical-align: middle;\n",
       "    }\n",
       "\n",
       "    .dataframe tbody tr th {\n",
       "        vertical-align: top;\n",
       "    }\n",
       "\n",
       "    .dataframe thead th {\n",
       "        text-align: right;\n",
       "    }\n",
       "</style>\n",
       "<table border=\"1\" class=\"dataframe\">\n",
       "  <thead>\n",
       "    <tr style=\"text-align: right;\">\n",
       "      <th></th>\n",
       "      <th>price</th>\n",
       "      <th>area</th>\n",
       "      <th>bedrooms</th>\n",
       "      <th>bathrooms</th>\n",
       "      <th>stories</th>\n",
       "      <th>mainroad</th>\n",
       "      <th>guestroom</th>\n",
       "      <th>basement</th>\n",
       "      <th>hotwaterheating</th>\n",
       "      <th>airconditioning</th>\n",
       "      <th>parking</th>\n",
       "      <th>prefarea</th>\n",
       "      <th>furnishingstatus</th>\n",
       "    </tr>\n",
       "  </thead>\n",
       "  <tbody>\n",
       "    <tr>\n",
       "      <th>0</th>\n",
       "      <td>13300000</td>\n",
       "      <td>7420</td>\n",
       "      <td>4</td>\n",
       "      <td>2</td>\n",
       "      <td>3</td>\n",
       "      <td>yes</td>\n",
       "      <td>no</td>\n",
       "      <td>no</td>\n",
       "      <td>no</td>\n",
       "      <td>yes</td>\n",
       "      <td>2</td>\n",
       "      <td>yes</td>\n",
       "      <td>furnished</td>\n",
       "    </tr>\n",
       "    <tr>\n",
       "      <th>1</th>\n",
       "      <td>12250000</td>\n",
       "      <td>8960</td>\n",
       "      <td>4</td>\n",
       "      <td>4</td>\n",
       "      <td>4</td>\n",
       "      <td>yes</td>\n",
       "      <td>no</td>\n",
       "      <td>no</td>\n",
       "      <td>no</td>\n",
       "      <td>yes</td>\n",
       "      <td>3</td>\n",
       "      <td>no</td>\n",
       "      <td>furnished</td>\n",
       "    </tr>\n",
       "    <tr>\n",
       "      <th>2</th>\n",
       "      <td>12250000</td>\n",
       "      <td>9960</td>\n",
       "      <td>3</td>\n",
       "      <td>2</td>\n",
       "      <td>2</td>\n",
       "      <td>yes</td>\n",
       "      <td>no</td>\n",
       "      <td>yes</td>\n",
       "      <td>no</td>\n",
       "      <td>no</td>\n",
       "      <td>2</td>\n",
       "      <td>yes</td>\n",
       "      <td>semi-furnished</td>\n",
       "    </tr>\n",
       "    <tr>\n",
       "      <th>3</th>\n",
       "      <td>12215000</td>\n",
       "      <td>7500</td>\n",
       "      <td>4</td>\n",
       "      <td>2</td>\n",
       "      <td>2</td>\n",
       "      <td>yes</td>\n",
       "      <td>no</td>\n",
       "      <td>yes</td>\n",
       "      <td>no</td>\n",
       "      <td>yes</td>\n",
       "      <td>3</td>\n",
       "      <td>yes</td>\n",
       "      <td>furnished</td>\n",
       "    </tr>\n",
       "    <tr>\n",
       "      <th>4</th>\n",
       "      <td>11410000</td>\n",
       "      <td>7420</td>\n",
       "      <td>4</td>\n",
       "      <td>1</td>\n",
       "      <td>2</td>\n",
       "      <td>yes</td>\n",
       "      <td>yes</td>\n",
       "      <td>yes</td>\n",
       "      <td>no</td>\n",
       "      <td>yes</td>\n",
       "      <td>2</td>\n",
       "      <td>no</td>\n",
       "      <td>furnished</td>\n",
       "    </tr>\n",
       "  </tbody>\n",
       "</table>\n",
       "</div>"
      ],
      "text/plain": [
       "      price  area  bedrooms  bathrooms  stories mainroad guestroom basement  \\\n",
       "0  13300000  7420         4          2        3      yes        no       no   \n",
       "1  12250000  8960         4          4        4      yes        no       no   \n",
       "2  12250000  9960         3          2        2      yes        no      yes   \n",
       "3  12215000  7500         4          2        2      yes        no      yes   \n",
       "4  11410000  7420         4          1        2      yes       yes      yes   \n",
       "\n",
       "  hotwaterheating airconditioning  parking prefarea furnishingstatus  \n",
       "0              no             yes        2      yes        furnished  \n",
       "1              no             yes        3       no        furnished  \n",
       "2              no              no        2      yes   semi-furnished  \n",
       "3              no             yes        3      yes        furnished  \n",
       "4              no             yes        2       no        furnished  "
      ]
     },
     "execution_count": 4,
     "metadata": {},
     "output_type": "execute_result"
    }
   ],
   "source": [
    "# Display first few rows\n",
    "print(\"First few rows of the dataset:\")\n",
    "df.head()"
   ]
  },
  {
   "cell_type": "code",
   "execution_count": 5,
   "metadata": {},
   "outputs": [
    {
     "data": {
      "text/plain": [
       "price               219\n",
       "area                284\n",
       "bedrooms              6\n",
       "bathrooms             4\n",
       "stories               4\n",
       "mainroad              2\n",
       "guestroom             2\n",
       "basement              2\n",
       "hotwaterheating       2\n",
       "airconditioning       2\n",
       "parking               4\n",
       "prefarea              2\n",
       "furnishingstatus      3\n",
       "dtype: int64"
      ]
     },
     "execution_count": 5,
     "metadata": {},
     "output_type": "execute_result"
    }
   ],
   "source": [
    "df.nunique()"
   ]
  },
  {
   "cell_type": "markdown",
   "metadata": {},
   "source": [
    "## Check total count of items and notna and compare\n",
    "If they are the same then no need to drop na "
   ]
  },
  {
   "cell_type": "code",
   "execution_count": 6,
   "metadata": {},
   "outputs": [
    {
     "data": {
      "text/plain": [
       "price               545\n",
       "area                545\n",
       "bedrooms            545\n",
       "bathrooms           545\n",
       "stories             545\n",
       "mainroad            545\n",
       "guestroom           545\n",
       "basement            545\n",
       "hotwaterheating     545\n",
       "airconditioning     545\n",
       "parking             545\n",
       "prefarea            545\n",
       "furnishingstatus    545\n",
       "dtype: int64"
      ]
     },
     "execution_count": 6,
     "metadata": {},
     "output_type": "execute_result"
    }
   ],
   "source": [
    "df.count()"
   ]
  },
  {
   "cell_type": "code",
   "execution_count": 7,
   "metadata": {},
   "outputs": [
    {
     "data": {
      "text/plain": [
       "price               545\n",
       "area                545\n",
       "bedrooms            545\n",
       "bathrooms           545\n",
       "stories             545\n",
       "mainroad            545\n",
       "guestroom           545\n",
       "basement            545\n",
       "hotwaterheating     545\n",
       "airconditioning     545\n",
       "parking             545\n",
       "prefarea            545\n",
       "furnishingstatus    545\n",
       "dtype: int64"
      ]
     },
     "execution_count": 7,
     "metadata": {},
     "output_type": "execute_result"
    }
   ],
   "source": [
    "df.notna().sum()"
   ]
  },
  {
   "cell_type": "markdown",
   "metadata": {},
   "source": [
    "## Data Cleaning Process for Outlier Detection\n",
    "\n",
    "In this code snippet, we perform several steps to clean the dataset by removing outliers based on the target variable, which is the price of a property. Here’s a breakdown of what happens:\n",
    "\n",
    "1. **Feature and Target Variable Extraction**:\n",
    "   - We extract the feature (`area`) and the target variable (`price`) from the DataFrame `df`. The feature `X` is reshaped into a 2D array with one column to ensure compatibility with certain machine learning models, while the target variable `y` is retained as a 1D array.\n",
    "\n",
    "2. **Outlier Detection Using IQR**:\n",
    "   - We calculate the first (Q1) and third (Q3) quartiles of the target variable `y`. \n",
    "   - The Interquartile Range (IQR) is computed as the difference between Q3 and Q1. This IQR helps identify the spread of the middle 50% of the data.\n",
    "   - Using the IQR, we set lower and upper bounds for outlier detection: any data point falling below the lower bound (`Q1 - 1.5 * IQR`) or above the upper bound (`Q3 + 1.5 * IQR`) is considered an outlier.\n",
    "\n",
    "3. **Cleaning the Dataset**:\n",
    "   - The dataset is filtered to remove outliers, resulting in a new DataFrame (`data_clean`) that contains only rows where the `price` falls within the calculated bounds.\n",
    "   - Finally, we update the feature (`X`) and target variable (`y`) to reflect this cleaned dataset, ensuring that subsequent analyses or modeling efforts are not skewed by outlier values.\n",
    "\n",
    "\n",
    "\n"
   ]
  },
  {
   "cell_type": "code",
   "execution_count": 8,
   "metadata": {},
   "outputs": [
    {
     "data": {
      "text/html": [
       "<div>\n",
       "<style scoped>\n",
       "    .dataframe tbody tr th:only-of-type {\n",
       "        vertical-align: middle;\n",
       "    }\n",
       "\n",
       "    .dataframe tbody tr th {\n",
       "        vertical-align: top;\n",
       "    }\n",
       "\n",
       "    .dataframe thead th {\n",
       "        text-align: right;\n",
       "    }\n",
       "</style>\n",
       "<table border=\"1\" class=\"dataframe\">\n",
       "  <thead>\n",
       "    <tr style=\"text-align: right;\">\n",
       "      <th></th>\n",
       "      <th>area</th>\n",
       "      <th>price</th>\n",
       "    </tr>\n",
       "  </thead>\n",
       "  <tbody>\n",
       "    <tr>\n",
       "      <th>15</th>\n",
       "      <td>6000</td>\n",
       "      <td>9100000</td>\n",
       "    </tr>\n",
       "    <tr>\n",
       "      <th>16</th>\n",
       "      <td>6600</td>\n",
       "      <td>9100000</td>\n",
       "    </tr>\n",
       "    <tr>\n",
       "      <th>17</th>\n",
       "      <td>8500</td>\n",
       "      <td>8960000</td>\n",
       "    </tr>\n",
       "    <tr>\n",
       "      <th>18</th>\n",
       "      <td>4600</td>\n",
       "      <td>8890000</td>\n",
       "    </tr>\n",
       "    <tr>\n",
       "      <th>19</th>\n",
       "      <td>6420</td>\n",
       "      <td>8855000</td>\n",
       "    </tr>\n",
       "    <tr>\n",
       "      <th>...</th>\n",
       "      <td>...</td>\n",
       "      <td>...</td>\n",
       "    </tr>\n",
       "    <tr>\n",
       "      <th>540</th>\n",
       "      <td>3000</td>\n",
       "      <td>1820000</td>\n",
       "    </tr>\n",
       "    <tr>\n",
       "      <th>541</th>\n",
       "      <td>2400</td>\n",
       "      <td>1767150</td>\n",
       "    </tr>\n",
       "    <tr>\n",
       "      <th>542</th>\n",
       "      <td>3620</td>\n",
       "      <td>1750000</td>\n",
       "    </tr>\n",
       "    <tr>\n",
       "      <th>543</th>\n",
       "      <td>2910</td>\n",
       "      <td>1750000</td>\n",
       "    </tr>\n",
       "    <tr>\n",
       "      <th>544</th>\n",
       "      <td>3850</td>\n",
       "      <td>1750000</td>\n",
       "    </tr>\n",
       "  </tbody>\n",
       "</table>\n",
       "<p>530 rows × 2 columns</p>\n",
       "</div>"
      ],
      "text/plain": [
       "     area    price\n",
       "15   6000  9100000\n",
       "16   6600  9100000\n",
       "17   8500  8960000\n",
       "18   4600  8890000\n",
       "19   6420  8855000\n",
       "..    ...      ...\n",
       "540  3000  1820000\n",
       "541  2400  1767150\n",
       "542  3620  1750000\n",
       "543  2910  1750000\n",
       "544  3850  1750000\n",
       "\n",
       "[530 rows x 2 columns]"
      ]
     },
     "execution_count": 8,
     "metadata": {},
     "output_type": "execute_result"
    }
   ],
   "source": [
    "# Convert the 'area' column from the DataFrame into a NumPy array\n",
    "# Reshape it into a 2D array with one column, which is often required for compatibility with certain machine learning models\n",
    "X = np.array(df['area']).reshape(-1, 1)\n",
    "\n",
    "# The target variable (y) is the 'price' column, which we want to predict.\n",
    "# Here, we simply convert it into a NumPy array without reshaping, as it's a 1D array.\n",
    "y = np.array(df['price']) \n",
    "\n",
    "# Calculate the first quartile (Q1) of the target variable 'price'\n",
    "Q1 = np.percentile(y, 25)\n",
    "\n",
    "# Calculate the third quartile (Q3) of the target variable 'price'\n",
    "Q3 = np.percentile(y, 75)\n",
    "\n",
    "# Calculate the Interquartile Range (IQR)\n",
    "IQR = Q3 - Q1  # The IQR represents the range between Q1 and Q3\n",
    "\n",
    "# Determine the lower and upper bounds for detecting outliers\n",
    "lower_bound = Q1 - 1.5 * IQR  # Lower bound for outlier detection\n",
    "upper_bound = Q3 + 1.5 * IQR  # Upper bound for outlier detection\n",
    "\n",
    "# Clean the dataset by filtering out rows where the 'price' is an outlier\n",
    "# Only include rows where 'price' is between the lower and upper bounds\n",
    "data_clean = df[(y >= lower_bound) & (y <= upper_bound)][['area', 'price']]\n",
    "\n",
    "# Update X and y with the cleaned data\n",
    "X = np.array(data_clean['area']).reshape(-1, 1)  # Reassign X with the cleaned 'area' data\n",
    "y = np.array(data_clean['price'])  # Reassign y with the cleaned 'price' data\n",
    "\n",
    "data_clean"
   ]
  },
  {
   "cell_type": "code",
   "execution_count": 9,
   "metadata": {},
   "outputs": [],
   "source": [
    "# Train-test split: 60% train , 40% val + test\n",
    "X_train, X_test, y_train, y_test = train_test_split(X, y, test_size=0.4, random_state=42)\n",
    "# Train-test split: 20% val, 20% test\n",
    "X_val, X_test, y_val, y_test = train_test_split(X_test, y_test, test_size=0.2, random_state=42)\n",
    "scaler = StandardScaler()\n",
    "X_train = scaler.fit_transform(X_train)\n",
    "X_test=scaler.transform(X_test)\n",
    "X_val=scaler.transform(X_val)"
   ]
  },
  {
   "cell_type": "code",
   "execution_count": 10,
   "metadata": {},
   "outputs": [],
   "source": [
    "# Convert data to PyTorch tensors\n",
    "X_train = torch.from_numpy(X_train).float()\n",
    "y_train = torch.from_numpy(y_train).float().unsqueeze(1)\n",
    "X_val = torch.from_numpy(X_val).float()\n",
    "y_val = torch.from_numpy(y_val).float().unsqueeze(1)\n",
    "X_test = torch.from_numpy(X_test).float()\n",
    "y_test = torch.from_numpy(y_test).float().unsqueeze(1)"
   ]
  },
  {
   "cell_type": "markdown",
   "metadata": {},
   "source": [
    "# Implementing a neural network for regression"
   ]
  },
  {
   "cell_type": "code",
   "execution_count": 11,
   "metadata": {},
   "outputs": [],
   "source": [
    "# Neural network model\n",
    "class HousingModel(nn.Module):\n",
    "    def __init__(self, input_size):\n",
    "        super(HousingModel, self).__init__()\n",
    "        self.linear = nn.Linear(input_size, 1)\n",
    "\n",
    "    def forward(self, x):\n",
    "        return self.linear(x)"
   ]
  },
  {
   "cell_type": "markdown",
   "metadata": {},
   "source": [
    "# Training and Validation for Model Evaluation\n"
   ]
  },
  {
   "cell_type": "code",
   "execution_count": 12,
   "metadata": {},
   "outputs": [],
   "source": [
    "# Define parameters and instantiate model\n",
    "epochs=10000\n",
    "model = HousingModel(input_size=1)\n",
    "criterion = nn.MSELoss()  # Use MSE for regression\n",
    "optimizer = optim.SGD(model.parameters(), lr=0.1)"
   ]
  },
  {
   "cell_type": "code",
   "execution_count": 13,
   "metadata": {},
   "outputs": [
    {
     "name": "stdout",
     "output_type": "stream",
     "text": [
      "Epoch [100/10000], Train Loss: 1486313619456.0000, Val Loss: 2509840580608.0000\n",
      "Epoch [200/10000], Train Loss: 1486313619456.0000, Val Loss: 2509840580608.0000\n",
      "Epoch [300/10000], Train Loss: 1486313619456.0000, Val Loss: 2509840580608.0000\n",
      "Epoch [400/10000], Train Loss: 1486313619456.0000, Val Loss: 2509840580608.0000\n",
      "Epoch [500/10000], Train Loss: 1486313619456.0000, Val Loss: 2509840580608.0000\n",
      "Epoch [600/10000], Train Loss: 1486313619456.0000, Val Loss: 2509840580608.0000\n",
      "Epoch [700/10000], Train Loss: 1486313619456.0000, Val Loss: 2509840580608.0000\n",
      "Epoch [800/10000], Train Loss: 1486313619456.0000, Val Loss: 2509840580608.0000\n",
      "Epoch [900/10000], Train Loss: 1486313619456.0000, Val Loss: 2509840580608.0000\n",
      "Epoch [1000/10000], Train Loss: 1486313619456.0000, Val Loss: 2509840580608.0000\n",
      "Epoch [1100/10000], Train Loss: 1486313619456.0000, Val Loss: 2509840580608.0000\n",
      "Epoch [1200/10000], Train Loss: 1486313619456.0000, Val Loss: 2509840580608.0000\n",
      "Epoch [1300/10000], Train Loss: 1486313619456.0000, Val Loss: 2509840580608.0000\n",
      "Epoch [1400/10000], Train Loss: 1486313619456.0000, Val Loss: 2509840580608.0000\n",
      "Epoch [1500/10000], Train Loss: 1486313619456.0000, Val Loss: 2509840580608.0000\n",
      "Epoch [1600/10000], Train Loss: 1486313619456.0000, Val Loss: 2509840580608.0000\n",
      "Epoch [1700/10000], Train Loss: 1486313619456.0000, Val Loss: 2509840580608.0000\n",
      "Epoch [1800/10000], Train Loss: 1486313619456.0000, Val Loss: 2509840580608.0000\n",
      "Epoch [1900/10000], Train Loss: 1486313619456.0000, Val Loss: 2509840580608.0000\n",
      "Epoch [2000/10000], Train Loss: 1486313619456.0000, Val Loss: 2509840580608.0000\n",
      "Epoch [2100/10000], Train Loss: 1486313619456.0000, Val Loss: 2509840580608.0000\n",
      "Epoch [2200/10000], Train Loss: 1486313619456.0000, Val Loss: 2509840580608.0000\n",
      "Epoch [2300/10000], Train Loss: 1486313619456.0000, Val Loss: 2509840580608.0000\n",
      "Epoch [2400/10000], Train Loss: 1486313619456.0000, Val Loss: 2509840580608.0000\n",
      "Epoch [2500/10000], Train Loss: 1486313619456.0000, Val Loss: 2509840580608.0000\n",
      "Epoch [2600/10000], Train Loss: 1486313619456.0000, Val Loss: 2509840580608.0000\n",
      "Epoch [2700/10000], Train Loss: 1486313619456.0000, Val Loss: 2509840580608.0000\n",
      "Epoch [2800/10000], Train Loss: 1486313619456.0000, Val Loss: 2509840580608.0000\n",
      "Epoch [2900/10000], Train Loss: 1486313619456.0000, Val Loss: 2509840580608.0000\n",
      "Epoch [3000/10000], Train Loss: 1486313619456.0000, Val Loss: 2509840580608.0000\n",
      "Epoch [3100/10000], Train Loss: 1486313619456.0000, Val Loss: 2509840580608.0000\n",
      "Epoch [3200/10000], Train Loss: 1486313619456.0000, Val Loss: 2509840580608.0000\n",
      "Epoch [3300/10000], Train Loss: 1486313619456.0000, Val Loss: 2509840580608.0000\n",
      "Epoch [3400/10000], Train Loss: 1486313619456.0000, Val Loss: 2509840580608.0000\n",
      "Epoch [3500/10000], Train Loss: 1486313619456.0000, Val Loss: 2509840580608.0000\n",
      "Epoch [3600/10000], Train Loss: 1486313619456.0000, Val Loss: 2509840580608.0000\n",
      "Epoch [3700/10000], Train Loss: 1486313619456.0000, Val Loss: 2509840580608.0000\n",
      "Epoch [3800/10000], Train Loss: 1486313619456.0000, Val Loss: 2509840580608.0000\n",
      "Epoch [3900/10000], Train Loss: 1486313619456.0000, Val Loss: 2509840580608.0000\n",
      "Epoch [4000/10000], Train Loss: 1486313619456.0000, Val Loss: 2509840580608.0000\n",
      "Epoch [4100/10000], Train Loss: 1486313619456.0000, Val Loss: 2509840580608.0000\n",
      "Epoch [4200/10000], Train Loss: 1486313619456.0000, Val Loss: 2509840580608.0000\n",
      "Epoch [4300/10000], Train Loss: 1486313619456.0000, Val Loss: 2509840580608.0000\n",
      "Epoch [4400/10000], Train Loss: 1486313619456.0000, Val Loss: 2509840580608.0000\n",
      "Epoch [4500/10000], Train Loss: 1486313619456.0000, Val Loss: 2509840580608.0000\n",
      "Epoch [4600/10000], Train Loss: 1486313619456.0000, Val Loss: 2509840580608.0000\n",
      "Epoch [4700/10000], Train Loss: 1486313619456.0000, Val Loss: 2509840580608.0000\n",
      "Epoch [4800/10000], Train Loss: 1486313619456.0000, Val Loss: 2509840580608.0000\n",
      "Epoch [4900/10000], Train Loss: 1486313619456.0000, Val Loss: 2509840580608.0000\n",
      "Epoch [5000/10000], Train Loss: 1486313619456.0000, Val Loss: 2509840580608.0000\n",
      "Epoch [5100/10000], Train Loss: 1486313619456.0000, Val Loss: 2509840580608.0000\n",
      "Epoch [5200/10000], Train Loss: 1486313619456.0000, Val Loss: 2509840580608.0000\n",
      "Epoch [5300/10000], Train Loss: 1486313619456.0000, Val Loss: 2509840580608.0000\n",
      "Epoch [5400/10000], Train Loss: 1486313619456.0000, Val Loss: 2509840580608.0000\n",
      "Epoch [5500/10000], Train Loss: 1486313619456.0000, Val Loss: 2509840580608.0000\n",
      "Epoch [5600/10000], Train Loss: 1486313619456.0000, Val Loss: 2509840580608.0000\n",
      "Epoch [5700/10000], Train Loss: 1486313619456.0000, Val Loss: 2509840580608.0000\n",
      "Epoch [5800/10000], Train Loss: 1486313619456.0000, Val Loss: 2509840580608.0000\n",
      "Epoch [5900/10000], Train Loss: 1486313619456.0000, Val Loss: 2509840580608.0000\n",
      "Epoch [6000/10000], Train Loss: 1486313619456.0000, Val Loss: 2509840580608.0000\n",
      "Epoch [6100/10000], Train Loss: 1486313619456.0000, Val Loss: 2509840580608.0000\n",
      "Epoch [6200/10000], Train Loss: 1486313619456.0000, Val Loss: 2509840580608.0000\n",
      "Epoch [6300/10000], Train Loss: 1486313619456.0000, Val Loss: 2509840580608.0000\n",
      "Epoch [6400/10000], Train Loss: 1486313619456.0000, Val Loss: 2509840580608.0000\n",
      "Epoch [6500/10000], Train Loss: 1486313619456.0000, Val Loss: 2509840580608.0000\n",
      "Epoch [6600/10000], Train Loss: 1486313619456.0000, Val Loss: 2509840580608.0000\n",
      "Epoch [6700/10000], Train Loss: 1486313619456.0000, Val Loss: 2509840580608.0000\n",
      "Epoch [6800/10000], Train Loss: 1486313619456.0000, Val Loss: 2509840580608.0000\n",
      "Epoch [6900/10000], Train Loss: 1486313619456.0000, Val Loss: 2509840580608.0000\n",
      "Epoch [7000/10000], Train Loss: 1486313619456.0000, Val Loss: 2509840580608.0000\n",
      "Epoch [7100/10000], Train Loss: 1486313619456.0000, Val Loss: 2509840580608.0000\n",
      "Epoch [7200/10000], Train Loss: 1486313619456.0000, Val Loss: 2509840580608.0000\n",
      "Epoch [7300/10000], Train Loss: 1486313619456.0000, Val Loss: 2509840580608.0000\n",
      "Epoch [7400/10000], Train Loss: 1486313619456.0000, Val Loss: 2509840580608.0000\n",
      "Epoch [7500/10000], Train Loss: 1486313619456.0000, Val Loss: 2509840580608.0000\n",
      "Epoch [7600/10000], Train Loss: 1486313619456.0000, Val Loss: 2509840580608.0000\n",
      "Epoch [7700/10000], Train Loss: 1486313619456.0000, Val Loss: 2509840580608.0000\n",
      "Epoch [7800/10000], Train Loss: 1486313619456.0000, Val Loss: 2509840580608.0000\n",
      "Epoch [7900/10000], Train Loss: 1486313619456.0000, Val Loss: 2509840580608.0000\n",
      "Epoch [8000/10000], Train Loss: 1486313619456.0000, Val Loss: 2509840580608.0000\n",
      "Epoch [8100/10000], Train Loss: 1486313619456.0000, Val Loss: 2509840580608.0000\n",
      "Epoch [8200/10000], Train Loss: 1486313619456.0000, Val Loss: 2509840580608.0000\n",
      "Epoch [8300/10000], Train Loss: 1486313619456.0000, Val Loss: 2509840580608.0000\n",
      "Epoch [8400/10000], Train Loss: 1486313619456.0000, Val Loss: 2509840580608.0000\n",
      "Epoch [8500/10000], Train Loss: 1486313619456.0000, Val Loss: 2509840580608.0000\n",
      "Epoch [8600/10000], Train Loss: 1486313619456.0000, Val Loss: 2509840580608.0000\n",
      "Epoch [8700/10000], Train Loss: 1486313619456.0000, Val Loss: 2509840580608.0000\n",
      "Epoch [8800/10000], Train Loss: 1486313619456.0000, Val Loss: 2509840580608.0000\n",
      "Epoch [8900/10000], Train Loss: 1486313619456.0000, Val Loss: 2509840580608.0000\n",
      "Epoch [9000/10000], Train Loss: 1486313619456.0000, Val Loss: 2509840580608.0000\n",
      "Epoch [9100/10000], Train Loss: 1486313619456.0000, Val Loss: 2509840580608.0000\n",
      "Epoch [9200/10000], Train Loss: 1486313619456.0000, Val Loss: 2509840580608.0000\n",
      "Epoch [9300/10000], Train Loss: 1486313619456.0000, Val Loss: 2509840580608.0000\n",
      "Epoch [9400/10000], Train Loss: 1486313619456.0000, Val Loss: 2509840580608.0000\n",
      "Epoch [9500/10000], Train Loss: 1486313619456.0000, Val Loss: 2509840580608.0000\n",
      "Epoch [9600/10000], Train Loss: 1486313619456.0000, Val Loss: 2509840580608.0000\n",
      "Epoch [9700/10000], Train Loss: 1486313619456.0000, Val Loss: 2509840580608.0000\n",
      "Epoch [9800/10000], Train Loss: 1486313619456.0000, Val Loss: 2509840580608.0000\n",
      "Epoch [9900/10000], Train Loss: 1486313619456.0000, Val Loss: 2509840580608.0000\n",
      "Epoch [10000/10000], Train Loss: 1486313619456.0000, Val Loss: 2509840580608.0000\n"
     ]
    }
   ],
   "source": [
    "# Training loop\n",
    "losses = []\n",
    "val_losses = []  # To track validation losses\n",
    "for epoch in range(epochs):\n",
    "    # --- Training Phase ---\n",
    "    model.train()  # Set model to training mode\n",
    "    \n",
    "    # Forward pass\n",
    "    y_pred = model(X_train)  # Training prediction\n",
    "\n",
    "    # Compute the loss\n",
    "    loss = criterion(y_pred, y_train)\n",
    "\n",
    "    # Backward pass and optimization\n",
    "    optimizer.zero_grad()\n",
    "    loss.backward()\n",
    "    optimizer.step()\n",
    "\n",
    "    # Track training loss\n",
    "    losses.append(loss.item())\n",
    "\n",
    "    # --- Validation Phase ---\n",
    "    model.eval()  # Set model to evaluation mode\n",
    "    with torch.no_grad():  # Disable gradient calculation for validation\n",
    "        y_val_pred = model(X_val)  # Validation prediction\n",
    "        val_loss = criterion(y_val_pred, y_val)  # Validation loss\n",
    "\n",
    "        # Track validation loss\n",
    "        val_losses.append(val_loss.item())\n",
    "\n",
    "    # Print the results every 100 epochs\n",
    "    if (epoch + 1) % 100 == 0:\n",
    "        print(f'Epoch [{epoch + 1}/{epochs}], '\n",
    "              f'Train Loss: {loss.item():.4f}, '\n",
    "              f'Val Loss: {val_loss.item():.4f}')"
   ]
  },
  {
   "cell_type": "markdown",
   "metadata": {},
   "source": [
    "## Model Evaluation with No Gradient Calculation\n",
    "\n",
    "The following code evaluates the performance of a trained model on the test dataset by computing common regression metrics like Mean Squared Error (MSE), Mean Absolute Error (MAE), and the R-squared (R²) score.\n"
   ]
  },
  {
   "cell_type": "code",
   "execution_count": 14,
   "metadata": {},
   "outputs": [
    {
     "name": "stdout",
     "output_type": "stream",
     "text": [
      "Mean Squared Error (MSE): 2460670230528.0000\n",
      "Mean Absolute Error (MAE): 1190378.5000\n",
      "R-squared (R2): 0.2202\n"
     ]
    }
   ],
   "source": [
    "# Evaluation with no gradient calculation\n",
    "with torch.no_grad():\n",
    "    y_pred_test = model(X_test)\n",
    "    # Compute the metrics\n",
    "    mse = mean_squared_error(y_test, y_pred_test)\n",
    "    mae = mean_absolute_error(y_test, y_pred_test)\n",
    "    r2 = r2_score(y_test, y_pred_test)\n",
    "\n",
    "    # Print the results\n",
    "    print(f\"Mean Squared Error (MSE): {mse:.4f}\")\n",
    "    print(f\"Mean Absolute Error (MAE): {mae:.4f}\")\n",
    "    print(f\"R-squared (R2): {r2:.4f}\")\n"
   ]
  },
  {
   "cell_type": "markdown",
   "metadata": {},
   "source": [
    "# Model Testing Function"
   ]
  },
  {
   "cell_type": "code",
   "execution_count": 15,
   "metadata": {},
   "outputs": [
    {
     "name": "stdout",
     "output_type": "stream",
     "text": [
      "Test Loss: 2460670230528.0000\n"
     ]
    }
   ],
   "source": [
    "# Evaluate the model on the test set\n",
    "with torch.no_grad():\n",
    "    y_pred_test = model(X_test)\n",
    "    test_loss = criterion(y_pred_test, y_test)\n",
    "    print(f'Test Loss: {test_loss.item():.4f}')"
   ]
  },
  {
   "cell_type": "markdown",
   "metadata": {},
   "source": [
    "## Plotting the Regression Line and Data Points\n",
    "\n",
    "The following code visualizes the relationship between the test data and the model's predictions by plotting both the actual data points and the predicted regression line:\n"
   ]
  },
  {
   "cell_type": "code",
   "execution_count": 16,
   "metadata": {},
   "outputs": [
    {
     "data": {
      "image/png": "[encoded data removed]",
      "text/plain": [
       "<Figure size 640x480 with 1 Axes>"
      ]
     },
     "metadata": {},
     "output_type": "display_data"
    }
   ],
   "source": [
    "# Scatter plot of the test data\n",
    "plt.scatter(X_test, y_test, label='Data')  # Plot actual test data points (area vs price) using scatter plot\n",
    "\n",
    "# Plot the predicted regression line (model predictions for X_test)\n",
    "plt.plot(X_test, y_pred_test, color='red', label='Regression Line')  # Plot predicted line based on model output\n",
    "\n",
    "# Set the x-axis label\n",
    "plt.xlabel('Area')  # Label for the x-axis, representing the \"Area\" feature\n",
    "\n",
    "# Set the y-axis label\n",
    "plt.ylabel('Price')  # Label for the y-axis, representing the \"Price\" target\n",
    "\n",
    "# Set the plot title\n",
    "plt.title('Prediction')  # Add a title to the plot to describe it\n",
    "\n",
    "# Add a legend to distinguish between the actual data and the regression line\n",
    "plt.legend()  # Displays the legend to show which plot is data and which is the regression line\n",
    "\n",
    "# Display the plot\n",
    "plt.show()  # Show the plot with both the scatter points and regression line\n"
   ]
  },
  {
   "cell_type": "code",
   "execution_count": 17,
   "metadata": {},
   "outputs": [
    {
     "data": {
      "image/png": "[encoded data removed]",
      "text/plain": [
       "<Figure size 640x480 with 1 Axes>"
      ]
     },
     "metadata": {},
     "output_type": "display_data"
    }
   ],
   "source": [
    "with torch.no_grad():  # Disable gradient tracking (not needed for predictions)\n",
    "    # Use the scaler to transform the entire input dataset (X)\n",
    "    input_scaled = scaler.transform(X)  # Scale the input features using the same scaler used for training\n",
    "\n",
    "    # Convert the scaled input data from NumPy array to PyTorch tensor\n",
    "    X_all = torch.from_numpy(input_scaled).float()  # Convert to PyTorch tensor (as float32)\n",
    "\n",
    "    # Make predictions on the entire dataset using the model\n",
    "    y_pred_all = model(X_all)  # Model makes predictions based on the input data\n",
    "\n",
    "# Plot the real data points using a scatter plot\n",
    "plt.scatter(X, y, label='Real Data')  # Scatter plot of actual data (X vs. y)\n",
    "\n",
    "# Plot the predicted values (from the model) as a regression line\n",
    "plt.plot(X, y_pred_all.numpy(), color='red', label='Regression Line')  # Convert predictions to NumPy and plot the regression line\n",
    "\n",
    "# Set the x-axis label\n",
    "plt.xlabel('Area')  # Label for x-axis representing the \"Area\" feature\n",
    "\n",
    "# Set the y-axis label\n",
    "plt.ylabel('Price')  # Label for y-axis representing the \"Price\" target\n",
    "\n",
    "# Set the title of the plot\n",
    "plt.title('Prediction')  # Title of the plot indicating it's a prediction visualization\n",
    "\n",
    "# Add a legend to distinguish between real data and the regression line\n",
    "plt.legend()  # Display legend to differentiate between the scatter data and regression line\n",
    "\n",
    "# Show the plot\n",
    "plt.show()  # Render the plot with both the scatter points and the regression line\n"
   ]
  }
 ],
 "metadata": {
  "kernelspec": {
   "display_name": "Python 3",
   "language": "python",
   "name": "python3"
  },
  "language_info": {
   "codemirror_mode": {
    "name": "ipython",
    "version": 3
   },
   "file_extension": ".py",
   "mimetype": "text/x-python",
   "name": "python",
   "nbconvert_exporter": "python",
   "pygments_lexer": "ipython3",
   "version": "3.11.0"
  }
 },
 "nbformat": 4,
 "nbformat_minor": 2
}
